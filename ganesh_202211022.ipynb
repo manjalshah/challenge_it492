{
 "cells": [
  {
   "cell_type": "code",
   "execution_count": 26,
   "metadata": {},
   "outputs": [],
   "source": [
    "import pandas as pd\n",
    "from surprise import Dataset, Reader\n",
    "from surprise import SVD\n",
    "from surprise.model_selection import train_test_split\n",
    "from surprise.model_selection import KFold"
   ]
  },
  {
   "cell_type": "code",
   "execution_count": 2,
   "metadata": {},
   "outputs": [],
   "source": [
    "titles = pd.read_csv(\"data/movies.csv\")\n",
    "data = pd.read_csv(\"data/ratings.csv\")"
   ]
  },
  {
   "cell_type": "code",
   "execution_count": 17,
   "metadata": {},
   "outputs": [],
   "source": [
    "movie_df = pd.merge(titles, data, on = \"movieId\")"
   ]
  },
  {
   "cell_type": "code",
   "execution_count": 21,
   "metadata": {},
   "outputs": [],
   "source": [
    "# Define the rating scale\n",
    "reader = Reader(rating_scale=(0.5, 5.0))\n",
    "\n",
    "# Load the dataset\n",
    "data = Dataset.load_from_df(movie_df[['userId', 'movieId', 'rating']], reader)"
   ]
  },
  {
   "cell_type": "code",
   "execution_count": 23,
   "metadata": {},
   "outputs": [],
   "source": [
    "# Split the data into train and test sets\n",
    "trainset, testset = train_test_split(data,test_size=0.2)"
   ]
  },
  {
   "cell_type": "code",
   "execution_count": 24,
   "metadata": {},
   "outputs": [
    {
     "data": {
      "text/plain": [
       "<surprise.prediction_algorithms.matrix_factorization.SVD at 0x7f65e92492d0>"
      ]
     },
     "execution_count": 24,
     "metadata": {},
     "output_type": "execute_result"
    }
   ],
   "source": [
    "# Create an instance of the SVD algorithm\n",
    "algo = SVD()\n",
    "\n",
    "# Train the algorithm on the trainset\n",
    "algo.fit(trainset)"
   ]
  },
  {
   "cell_type": "code",
   "execution_count": 25,
   "metadata": {},
   "outputs": [
    {
     "name": "stdout",
     "output_type": "stream",
     "text": [
      "user: 654        item: 1645       r_ui = None   est = 4.06   {'was_impossible': False}\n"
     ]
    }
   ],
   "source": [
    "# Generate recommendations for the first user in the testset\n",
    "uid = testset[0][0]\n",
    "iid = testset[0][1]\n",
    "pred = algo.predict(uid, iid,verbose=True)"
   ]
  },
  {
   "cell_type": "code",
   "execution_count": null,
   "metadata": {},
   "outputs": [],
   "source": [
    "# Define the k-fold cross-validation iterator\n",
    "kf = KFold(n_splits=5)\n",
    "\n",
    "# Train and test the SVD algorithm using k-fold cross-validation\n",
    "for trainset, testset in kf.split(data):\n",
    "    algo.fit(trainset)\n",
    "    predictions = algo.test(testset)\n",
    "    accuracy.rmse(predictions, verbose=True)\n",
    "\n",
    "# Generate recommendations for all users in the testset\n",
    "testset = trainset.build_anti_testset()\n",
    "predictions = algo.test(testset)"
   ]
  }
 ],
 "metadata": {
  "kernelspec": {
   "display_name": "nlp",
   "language": "python",
   "name": "python3"
  },
  "language_info": {
   "codemirror_mode": {
    "name": "ipython",
    "version": 3
   },
   "file_extension": ".py",
   "mimetype": "text/x-python",
   "name": "python",
   "nbconvert_exporter": "python",
   "pygments_lexer": "ipython3",
   "version": "3.10.9"
  },
  "orig_nbformat": 4,
  "vscode": {
   "interpreter": {
    "hash": "c88763d126f4b6591c083a40cd59297069e217d8a4e6ca53f3a7c76bca010173"
   }
  }
 },
 "nbformat": 4,
 "nbformat_minor": 2
}
